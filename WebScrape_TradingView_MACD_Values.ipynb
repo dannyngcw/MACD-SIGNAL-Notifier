{
  "cells": [
    {
      "cell_type": "markdown",
      "source": [
        "# Test your api connection over here"
      ],
      "metadata": {
        "id": "UkrWQrQiOX_4"
      }
    },
    {
      "cell_type": "code",
      "execution_count": null,
      "metadata": {
        "colab": {
          "base_uri": "https://localhost:8080/"
        },
        "id": "5ZNVnV1AAt9X",
        "outputId": "bbf85a02-60f6-4d07-ce06-a1d79a3f0dc5"
      },
      "outputs": [
        {
          "data": {
            "text/plain": [
              "<Response [200]>"
            ]
          },
          "execution_count": 12,
          "metadata": {},
          "output_type": "execute_result"
        }
      ],
      "source": [
        "message = \"MACD: 10 \\nConsider buying now\"\n",
        "url = f\"https://api.telegram.org/bot[BOT_API_KEY]/sendMessage?chat_id=[MY_CHANNEL_NAME]&text={message}\"\n",
        "requests.post(url)"
      ]
    },
    {
      "cell_type": "markdown",
      "source": [
        "# 1. Install and import necessary files for webscrape."
      ],
      "metadata": {
        "id": "aN53haR3zDi2"
      }
    },
    {
      "cell_type": "code",
      "execution_count": null,
      "metadata": {
        "colab": {
          "base_uri": "https://localhost:8080/"
        },
        "id": "WqlEo1AXLt95",
        "outputId": "a7439908-2db5-4316-e8ff-bd0a702a5477"
      },
      "outputs": [
        {
          "output_type": "stream",
          "name": "stdout",
          "text": [
            "Requirement already satisfied: selenium in /usr/local/lib/python3.7/dist-packages (4.1.3)\n",
            "Requirement already satisfied: urllib3[secure,socks]~=1.26 in /usr/local/lib/python3.7/dist-packages (from selenium) (1.26.9)\n",
            "Requirement already satisfied: trio~=0.17 in /usr/local/lib/python3.7/dist-packages (from selenium) (0.20.0)\n",
            "Requirement already satisfied: trio-websocket~=0.9 in /usr/local/lib/python3.7/dist-packages (from selenium) (0.9.2)\n",
            "Requirement already satisfied: attrs>=19.2.0 in /usr/local/lib/python3.7/dist-packages (from trio~=0.17->selenium) (21.4.0)\n",
            "Requirement already satisfied: async-generator>=1.9 in /usr/local/lib/python3.7/dist-packages (from trio~=0.17->selenium) (1.10)\n",
            "Requirement already satisfied: sniffio in /usr/local/lib/python3.7/dist-packages (from trio~=0.17->selenium) (1.2.0)\n",
            "Requirement already satisfied: sortedcontainers in /usr/local/lib/python3.7/dist-packages (from trio~=0.17->selenium) (2.4.0)\n",
            "Requirement already satisfied: outcome in /usr/local/lib/python3.7/dist-packages (from trio~=0.17->selenium) (1.1.0)\n",
            "Requirement already satisfied: idna in /usr/local/lib/python3.7/dist-packages (from trio~=0.17->selenium) (2.10)\n",
            "Requirement already satisfied: wsproto>=0.14 in /usr/local/lib/python3.7/dist-packages (from trio-websocket~=0.9->selenium) (1.1.0)\n",
            "Requirement already satisfied: PySocks!=1.5.7,<2.0,>=1.5.6 in /usr/local/lib/python3.7/dist-packages (from urllib3[secure,socks]~=1.26->selenium) (1.7.1)\n",
            "Requirement already satisfied: cryptography>=1.3.4 in /usr/local/lib/python3.7/dist-packages (from urllib3[secure,socks]~=1.26->selenium) (37.0.0)\n",
            "Requirement already satisfied: pyOpenSSL>=0.14 in /usr/local/lib/python3.7/dist-packages (from urllib3[secure,socks]~=1.26->selenium) (22.0.0)\n",
            "Requirement already satisfied: certifi in /usr/local/lib/python3.7/dist-packages (from urllib3[secure,socks]~=1.26->selenium) (2021.10.8)\n",
            "Requirement already satisfied: cffi>=1.12 in /usr/local/lib/python3.7/dist-packages (from cryptography>=1.3.4->urllib3[secure,socks]~=1.26->selenium) (1.15.0)\n",
            "Requirement already satisfied: pycparser in /usr/local/lib/python3.7/dist-packages (from cffi>=1.12->cryptography>=1.3.4->urllib3[secure,socks]~=1.26->selenium) (2.21)\n",
            "Requirement already satisfied: h11<1,>=0.9.0 in /usr/local/lib/python3.7/dist-packages (from wsproto>=0.14->trio-websocket~=0.9->selenium) (0.13.0)\n",
            "Requirement already satisfied: typing-extensions in /usr/local/lib/python3.7/dist-packages (from h11<1,>=0.9.0->wsproto>=0.14->trio-websocket~=0.9->selenium) (4.2.0)\n",
            "Get:1 http://security.ubuntu.com/ubuntu bionic-security InRelease [88.7 kB]\n",
            "Hit:2 http://archive.ubuntu.com/ubuntu bionic InRelease\n",
            "Get:3 http://archive.ubuntu.com/ubuntu bionic-updates InRelease [88.7 kB]\n",
            "Get:4 https://cloud.r-project.org/bin/linux/ubuntu bionic-cran40/ InRelease [3,626 B]\n",
            "Get:5 http://archive.ubuntu.com/ubuntu bionic-backports InRelease [74.6 kB]\n",
            "Ign:6 https://developer.download.nvidia.com/compute/cuda/repos/ubuntu1804/x86_64  InRelease\n",
            "Get:7 http://ppa.launchpad.net/c2d4u.team/c2d4u4.0+/ubuntu bionic InRelease [15.9 kB]\n",
            "Ign:8 https://developer.download.nvidia.com/compute/machine-learning/repos/ubuntu1804/x86_64  InRelease\n",
            "Hit:9 https://developer.download.nvidia.com/compute/cuda/repos/ubuntu1804/x86_64  Release\n",
            "Hit:10 https://developer.download.nvidia.com/compute/machine-learning/repos/ubuntu1804/x86_64  Release\n",
            "Hit:11 http://ppa.launchpad.net/cran/libgit2/ubuntu bionic InRelease\n",
            "Get:12 http://ppa.launchpad.net/deadsnakes/ppa/ubuntu bionic InRelease [15.9 kB]\n",
            "Hit:13 http://ppa.launchpad.net/graphics-drivers/ppa/ubuntu bionic InRelease\n",
            "Get:14 http://security.ubuntu.com/ubuntu bionic-security/restricted amd64 Packages [909 kB]\n",
            "Get:15 http://security.ubuntu.com/ubuntu bionic-security/main amd64 Packages [2,732 kB]\n",
            "Get:16 http://security.ubuntu.com/ubuntu bionic-security/universe amd64 Packages [1,496 kB]\n",
            "Get:17 http://archive.ubuntu.com/ubuntu bionic-updates/universe amd64 Packages [2,272 kB]\n",
            "Get:18 http://archive.ubuntu.com/ubuntu bionic-updates/restricted amd64 Packages [942 kB]\n",
            "Get:19 http://archive.ubuntu.com/ubuntu bionic-updates/main amd64 Packages [3,167 kB]\n",
            "Get:20 http://ppa.launchpad.net/c2d4u.team/c2d4u4.0+/ubuntu bionic/main Sources [1,949 kB]\n",
            "Get:23 http://ppa.launchpad.net/c2d4u.team/c2d4u4.0+/ubuntu bionic/main amd64 Packages [999 kB]\n",
            "Get:24 http://ppa.launchpad.net/deadsnakes/ppa/ubuntu bionic/main amd64 Packages [45.3 kB]\n",
            "Fetched 14.8 MB in 4s (4,129 kB/s)\n",
            "Reading package lists... Done\n",
            "Reading package lists... Done\n",
            "Building dependency tree       \n",
            "Reading state information... Done\n",
            "The following additional packages will be installed:\n",
            "  chromium-browser chromium-browser-l10n chromium-codecs-ffmpeg-extra\n",
            "Suggested packages:\n",
            "  webaccounts-chromium-extension unity-chromium-extension\n",
            "The following NEW packages will be installed:\n",
            "  chromium-browser chromium-browser-l10n chromium-chromedriver\n",
            "  chromium-codecs-ffmpeg-extra\n",
            "0 upgraded, 4 newly installed, 0 to remove and 61 not upgraded.\n",
            "Need to get 88.4 MB of archives.\n",
            "After this operation, 297 MB of additional disk space will be used.\n",
            "Get:1 http://archive.ubuntu.com/ubuntu bionic-updates/universe amd64 chromium-codecs-ffmpeg-extra amd64 100.0.4896.127-0ubuntu0.18.04.1 [1,142 kB]\n",
            "Get:2 http://archive.ubuntu.com/ubuntu bionic-updates/universe amd64 chromium-browser amd64 100.0.4896.127-0ubuntu0.18.04.1 [77.6 MB]\n",
            "Get:3 http://archive.ubuntu.com/ubuntu bionic-updates/universe amd64 chromium-browser-l10n all 100.0.4896.127-0ubuntu0.18.04.1 [4,496 kB]\n",
            "Get:4 http://archive.ubuntu.com/ubuntu bionic-updates/universe amd64 chromium-chromedriver amd64 100.0.4896.127-0ubuntu0.18.04.1 [5,190 kB]\n",
            "Fetched 88.4 MB in 3s (28.5 MB/s)\n",
            "Selecting previously unselected package chromium-codecs-ffmpeg-extra.\n",
            "(Reading database ... 155501 files and directories currently installed.)\n",
            "Preparing to unpack .../chromium-codecs-ffmpeg-extra_100.0.4896.127-0ubuntu0.18.04.1_amd64.deb ...\n",
            "Unpacking chromium-codecs-ffmpeg-extra (100.0.4896.127-0ubuntu0.18.04.1) ...\n",
            "Selecting previously unselected package chromium-browser.\n",
            "Preparing to unpack .../chromium-browser_100.0.4896.127-0ubuntu0.18.04.1_amd64.deb ...\n",
            "Unpacking chromium-browser (100.0.4896.127-0ubuntu0.18.04.1) ...\n",
            "Selecting previously unselected package chromium-browser-l10n.\n",
            "Preparing to unpack .../chromium-browser-l10n_100.0.4896.127-0ubuntu0.18.04.1_all.deb ...\n",
            "Unpacking chromium-browser-l10n (100.0.4896.127-0ubuntu0.18.04.1) ...\n",
            "Selecting previously unselected package chromium-chromedriver.\n",
            "Preparing to unpack .../chromium-chromedriver_100.0.4896.127-0ubuntu0.18.04.1_amd64.deb ...\n",
            "Unpacking chromium-chromedriver (100.0.4896.127-0ubuntu0.18.04.1) ...\n",
            "Setting up chromium-codecs-ffmpeg-extra (100.0.4896.127-0ubuntu0.18.04.1) ...\n",
            "Setting up chromium-browser (100.0.4896.127-0ubuntu0.18.04.1) ...\n",
            "update-alternatives: using /usr/bin/chromium-browser to provide /usr/bin/x-www-browser (x-www-browser) in auto mode\n",
            "update-alternatives: using /usr/bin/chromium-browser to provide /usr/bin/gnome-www-browser (gnome-www-browser) in auto mode\n",
            "Setting up chromium-chromedriver (100.0.4896.127-0ubuntu0.18.04.1) ...\n",
            "Setting up chromium-browser-l10n (100.0.4896.127-0ubuntu0.18.04.1) ...\n",
            "Processing triggers for man-db (2.8.3-2ubuntu0.1) ...\n",
            "Processing triggers for hicolor-icon-theme (0.17-2) ...\n",
            "Processing triggers for mime-support (3.60ubuntu1) ...\n",
            "Processing triggers for libc-bin (2.27-3ubuntu1.3) ...\n",
            "/sbin/ldconfig.real: /usr/local/lib/python3.7/dist-packages/ideep4py/lib/libmkldnn.so.0 is not a symbolic link\n",
            "\n"
          ]
        }
      ],
      "source": [
        "!pip install selenium\n",
        "!apt-get update\n",
        "!apt install chromium-chromedriver\n",
        "from selenium import webdriver\n",
        "from selenium.common.exceptions import NoSuchElementException\n",
        "from selenium.common.exceptions import StaleElementReferenceException\n",
        "from selenium.webdriver.common.by import By\n",
        "from selenium.webdriver.support.ui import WebDriverWait\n",
        "from selenium.webdriver import ActionChains\n",
        "from selenium.webdriver.support import expected_conditions as EC\n",
        "from selenium.webdriver.common.keys import Keys\n",
        "from bs4 import BeautifulSoup\n",
        "import time\n",
        "import requests"
      ]
    },
    {
      "cell_type": "markdown",
      "source": [
        "# 2. Intialise chrome with the necessary options.\n"
      ],
      "metadata": {
        "id": "-eun2ONJ0Ehr"
      }
    },
    {
      "cell_type": "code",
      "execution_count": null,
      "metadata": {
        "colab": {
          "base_uri": "https://localhost:8080/"
        },
        "id": "gYs88b9cIb0i",
        "outputId": "29ae6ca4-a031-49c4-f285-d5539df4f0c5"
      },
      "outputs": [
        {
          "name": "stderr",
          "output_type": "stream",
          "text": [
            "/usr/local/lib/python3.7/dist-packages/ipykernel_launcher.py:5: DeprecationWarning: use options instead of chrome_options\n",
            "  \"\"\"\n"
          ]
        }
      ],
      "source": [
        "chrome_options = webdriver.ChromeOptions()\n",
        "chrome_options.add_argument('--headless')\n",
        "chrome_options.add_argument('--no-sandbox')\n",
        "chrome_options.add_argument('--disable-dev-shm-usage')\n",
        "chrome = webdriver.Chrome('chromedriver',chrome_options=chrome_options)\n",
        "exceptions = (NoSuchElementException, StaleElementReferenceException)"
      ]
    },
    {
      "cell_type": "markdown",
      "source": [
        "# Login function to login into your Trading View account."
      ],
      "metadata": {
        "id": "HXLeDvNHZmAp"
      }
    },
    {
      "cell_type": "code",
      "execution_count": null,
      "metadata": {
        "id": "H8Q9dGBLQqhT"
      },
      "outputs": [],
      "source": [
        "def login():\n",
        "    global chrome\n",
        "    chrome_options = webdriver.ChromeOptions()\n",
        "    chrome_options.add_argument('--headless')\n",
        "    chrome_options.add_argument('--no-sandbox')\n",
        "    chrome_options.add_argument('--disable-dev-shm-usage')\n",
        "    chrome = webdriver.Chrome('chromedriver',options=chrome_options)\n",
        "    exceptions = (NoSuchElementException, StaleElementReferenceException)\n",
        "    chrome.get(\"https://www.tradingview.com/#signin\")\n",
        "    chrome.maximize_window()\n",
        "    wait = WebDriverWait(chrome, 20)\n",
        "    wait.until(EC.element_to_be_clickable((By.XPATH, \"//span[text()='Email']\"))).click()\n",
        "\n",
        "    # Input your tradingview username and password.\n",
        "    wait.until(EC.element_to_be_clickable((By.CSS_SELECTOR, \"[name='username']\"))).send_keys(\"INPUT USERNAME\")\n",
        "    wait.until(EC.element_to_be_clickable((By.CSS_SELECTOR, \"[name='password']\"))).send_keys(\"INPUT PASSWORD\")\n",
        "\n",
        "    wait.until(EC.element_to_be_clickable((By.XPATH, \"//button[.//span[contains(., 'Sign in')]]\"))).click()\n",
        "    chrome.get(\"https://www.tradingview.com/chart\")\n",
        "    \n",
        "    # For now you can only select from default crypto such as BTCUSD, ETHUSD as it is accessing it from a different browser.\n",
        "    wait.until(EC.element_to_be_clickable((By.XPATH, \"//span[text()='ETHUSD']\"))).click()\n",
        "    wait.until(EC.element_to_be_clickable((By.XPATH, \"//div[@id='header-toolbar-indicators']/div[1]\"))).click()\n",
        "    wait.until(EC.element_to_be_clickable((By.XPATH, \"//input[contains(@class, 'input-')]\"))).send_keys(\"macd\")\n",
        "    wait.until(EC.element_to_be_clickable((By.XPATH, \"//div[contains(@data-id, 'STD;MACD')]/div[1]\"))).click()\n",
        "\n",
        "    # You may change to your specific time to use the MACD indicator.\n",
        "    chrome.find_element(by=By.TAG_NAME, value='body').send_keys('4h')\n",
        "    actions = ActionChains(chrome)\n",
        "    actions.send_keys(Keys.ENTER)\n",
        "    actions.perform()\n",
        "\n",
        "    '''\n",
        "      You may return the html layout of the page using the code below \n",
        "    '''\n",
        "    # html_source_code = chrome.execute_script(\"return document.body.innerHTML;\")\n",
        "    # html_soup: BeautifulSoup = BeautifulSoup(html_source_code, 'html.parser')\n",
        "    # print(html_soup)\n",
        "    # print(html_source_code)"
      ]
    },
    {
      "cell_type": "markdown",
      "source": [
        "# To check if chrome is running or not."
      ],
      "metadata": {
        "id": "nDHhgpTjaRZi"
      }
    },
    {
      "cell_type": "code",
      "execution_count": null,
      "metadata": {
        "id": "ZC-GenSrcc_h"
      },
      "outputs": [],
      "source": [
        "def isBrowserAlive(chrome):\n",
        "   try:\n",
        "      chrome.current_url\n",
        "      # or driver.title\n",
        "      return True\n",
        "   except:\n",
        "      return False"
      ]
    },
    {
      "cell_type": "markdown",
      "source": [
        "# Get up & down trend of MACD."
      ],
      "metadata": {
        "id": "CJtq52W1cHlD"
      }
    },
    {
      "cell_type": "code",
      "source": [
        "def get_trend(value1, value2): \n",
        "  # value1 as MACD & value2 as Signal\n",
        "  global down_count\n",
        "  global up_count\n",
        "  global reset_count\n",
        "  # Trigger value of 0.5\n",
        "  trigger = 0.5\n",
        "  # If Signal value is more than MACD value, increment down_count by 1\n",
        "  if value1 < value2:\n",
        "    down_count += 1\n",
        "    print(\"down trend:\" + str(down_count))\n",
        "    # Restart up_count to 0 once down_count equals to 1\n",
        "    # Count resets so to get a strong trend\n",
        "    if down_count == 1:\n",
        "      up_count = 0\n",
        "  # If Signal value is more than MACD value, increment up_count by 1\n",
        "  if value1 > value2:\n",
        "    up_count += 1\n",
        "    print(\"up trend:\" + str(up_count))\n",
        "    # Restart down_count to 0 once up_count equals to 1\n",
        "    if up_count == 1:\n",
        "      down_count = 0\n",
        "  # If (MACD - Signal) value has a difference below 0.5, increment reset_count by 1 and restart reset_count to 0 if it is more than 4\n",
        "  if abs(value1 - value2) <= trigger:\n",
        "    reset_count += 1\n",
        "    print(\"reset count:\" + str(reset_count))\n",
        "    if reset_count > 4:\n",
        "      reset_count = 0"
      ],
      "metadata": {
        "id": "BhJQX7BMuHvp"
      },
      "execution_count": null,
      "outputs": []
    },
    {
      "cell_type": "markdown",
      "source": [
        "# Broadcast your signal messages to your telegram channel"
      ],
      "metadata": {
        "id": "w0-ke6W-hBkH"
      }
    },
    {
      "cell_type": "code",
      "source": [
        "def send_results(value1, value2, d_count, u_count, r_count):\n",
        "  # Trend count (can adjust count to suit your target)\n",
        "  count = 20\n",
        "  # High trigger value of 0.5\n",
        "  h_trig = 0.5\n",
        "  # Low trigger value of 0.2\n",
        "  l_trig = 0.2\n",
        "  # Buy signal will be triggered if (MACD - Signal) value is lower than low trigger value and Signal value more than MACD value.\n",
        "  if (abs(value1 - value2) <= l_trig and value1 < value2) or \n",
        "    (abs(value1 - value2) <= h_trig and value1 < value2 and d_count >= count and r_count == 1):\n",
        "    message = f\"MACD: {value1} Signal: {value2} \\nConsider buying now\"\n",
        "    url = f\"https://api.telegram.org/bot[BOT_API_KEY]/sendMessage?chat_id=[MY_CHANNEL_NAME]&text={MY_MESSAGE_TEXT}\"\n",
        "    requests.post(url)\n",
        "  else:\n",
        "    message = f\"MACD: {value1} Signal: {value2} \\nConsider selling now\"\n",
        "    url = f\"https://api.telegram.org/bot[BOT_API_KEY]/sendMessage?chat_id=[MY_CHANNEL_NAME]&text={MY_MESSAGE_TEXT}\"\n",
        "    requests.post(url)"
      ],
      "metadata": {
        "id": "-JwXDWiaoZDr"
      },
      "execution_count": null,
      "outputs": []
    },
    {
      "cell_type": "markdown",
      "source": [
        "# Retrieve MACD & Signal values function\n",
        "- Webscrape both MACD & Signal values from Tradingview site.\n",
        "- Pass MACD & Signal values to get_trend function and send_results function. "
      ],
      "metadata": {
        "id": "_W_7USbja6LD"
      }
    },
    {
      "cell_type": "code",
      "execution_count": null,
      "metadata": {
        "id": "5cckMT7T_T-_"
      },
      "outputs": [],
      "source": [
        "def retrieve_macd():\n",
        "  chrome.switch_to.window(chrome.window_handles[0])\n",
        "  chrome.maximize_window()\n",
        "  elements = chrome.find_elements(by=By.XPATH, value=\"//div[contains(@class, 'valueValue-')]\")\n",
        "  macd = elements[12].get_attribute('innerHTML')\n",
        "  signal = elements[13].get_attribute('innerHTML')\n",
        "  \n",
        "  # Convert to a negative symbol if not error will appear. \n",
        "  get_trend(float(macd.replace('−', '-')), float(signal.replace('−', '-')))\n",
        "  send_results(float(macd.replace('−', '-')), float(signal.replace('−', '-')), down_count, up_count, reset_count)\n",
        "  print(\"Macd:\"+ macd + \" \" + \"Signal:\"+ signal)"
      ]
    },
    {
      "cell_type": "markdown",
      "source": [
        "# Loop function to run the entire webscrape program"
      ],
      "metadata": {
        "id": "MryEYYqenPNY"
      }
    },
    {
      "cell_type": "code",
      "execution_count": null,
      "metadata": {
        "id": "R3O2To4LWT8d"
      },
      "outputs": [],
      "source": [
        "def loop():\n",
        "  global down_count\n",
        "  global up_count\n",
        "  global reset_count\n",
        "  down_count = 0\n",
        "  up_count = 0\n",
        "  reset_count = 0\n",
        "  login()\n",
        "  alive = isBrowserAlive(chrome)\n",
        "  time.sleep(20)\n",
        "  while alive:\n",
        "    retrieve_macd()\n",
        "    time.sleep(180)"
      ]
    },
    {
      "cell_type": "markdown",
      "source": [
        "# 3. Initialise the loop function and the program will run."
      ],
      "metadata": {
        "id": "Dsz3VcQEnZPw"
      }
    },
    {
      "cell_type": "code",
      "execution_count": null,
      "metadata": {
        "colab": {
          "base_uri": "https://localhost:8080/"
        },
        "id": "HuX71h6YXK1c",
        "outputId": "a5688176-ea9e-4ad5-b54c-75afa69b0115"
      },
      "outputs": [
        {
          "output_type": "stream",
          "name": "stdout",
          "text": [
            "up trend:1\n",
            "Macd:−17.62 Signal:−18.22\n",
            "up trend:2\n",
            "reset count:1\n",
            "Macd:−17.86 Signal:−18.27\n",
            "up trend:3\n",
            "reset count:2\n",
            "Macd:−18.12 Signal:−18.32\n",
            "up trend:4\n",
            "reset count:3\n",
            "Macd:−18.00 Signal:−18.30\n",
            "up trend:5\n",
            "Macd:−17.15 Signal:−18.13\n",
            "up trend:6\n",
            "Macd:−16.62 Signal:−18.02\n",
            "up trend:7\n",
            "Macd:−16.52 Signal:−18.01\n",
            "up trend:8\n",
            "Macd:−16.96 Signal:−18.09\n",
            "up trend:9\n",
            "Macd:−17.52 Signal:−18.20\n",
            "up trend:10\n",
            "Macd:−17.54 Signal:−18.21\n",
            "up trend:11\n",
            "reset count:4\n",
            "Macd:−17.99 Signal:−18.30\n",
            "up trend:12\n",
            "Macd:−17.58 Signal:−18.22\n",
            "up trend:13\n",
            "Macd:−17.60 Signal:−18.22\n",
            "up trend:14\n",
            "Macd:−17.49 Signal:−18.20\n",
            "up trend:15\n",
            "Macd:−16.69 Signal:−18.04\n",
            "up trend:16\n",
            "Macd:−16.78 Signal:−18.06\n",
            "up trend:17\n",
            "Macd:−16.17 Signal:−17.94\n",
            "up trend:18\n",
            "Macd:−16.38 Signal:−17.98\n",
            "up trend:19\n",
            "Macd:−17.31 Signal:−18.16\n",
            "up trend:20\n",
            "Macd:−17.57 Signal:−18.21\n",
            "up trend:21\n",
            "Macd:−17.56 Signal:−18.21\n",
            "up trend:22\n",
            "Macd:−17.50 Signal:−18.20\n",
            "up trend:23\n",
            "reset count:5\n",
            "Macd:−17.99 Signal:−18.30\n",
            "down trend:1\n",
            "reset count:1\n",
            "Macd:−18.60 Signal:−18.42\n",
            "down trend:2\n",
            "Macd:−19.19 Signal:−18.54\n",
            "down trend:3\n",
            "reset count:2\n",
            "Macd:−18.85 Signal:−18.47\n",
            "down trend:4\n",
            "reset count:3\n",
            "Macd:−18.56 Signal:−18.41\n",
            "up trend:1\n",
            "reset count:4\n",
            "Macd:−18.28 Signal:−18.36\n",
            "reset count:5\n",
            "Macd:−18.37 Signal:−18.37\n",
            "down trend:1\n",
            "reset count:1\n",
            "Macd:−18.62 Signal:−18.43\n",
            "up trend:1\n",
            "reset count:2\n",
            "Macd:−18.28 Signal:−18.36\n",
            "up trend:2\n",
            "Macd:−17.08 Signal:−18.12\n",
            "up trend:3\n",
            "Macd:−17.57 Signal:−18.21\n",
            "up trend:4\n",
            "reset count:3\n",
            "Macd:−17.90 Signal:−18.28\n",
            "up trend:5\n",
            "reset count:4\n",
            "Macd:−18.25 Signal:−18.35\n",
            "up trend:6\n",
            "reset count:5\n",
            "Macd:−18.03 Signal:−18.31\n",
            "up trend:7\n",
            "reset count:1\n",
            "Macd:−17.95 Signal:−18.29\n",
            "down trend:1\n",
            "reset count:2\n",
            "Macd:−18.42 Signal:−18.38\n",
            "down trend:2\n",
            "reset count:3\n",
            "Macd:−18.69 Signal:−18.44\n",
            "down trend:3\n",
            "Macd:−19.09 Signal:−18.52\n",
            "down trend:4\n",
            "reset count:4\n",
            "Macd:−18.79 Signal:−18.46\n",
            "up trend:1\n",
            "reset count:5\n",
            "Macd:−18.27 Signal:−18.35\n",
            "up trend:2\n",
            "reset count:1\n",
            "Macd:−17.83 Signal:−18.27\n",
            "up trend:3\n",
            "reset count:2\n",
            "Macd:−18.16 Signal:−18.33\n",
            "up trend:4\n",
            "reset count:3\n",
            "Macd:−18.23 Signal:−18.35\n",
            "down trend:1\n",
            "reset count:4\n",
            "Macd:−18.59 Signal:−18.42\n",
            "down trend:2\n",
            "reset count:5\n",
            "Macd:−18.55 Signal:−18.41\n",
            "up trend:1\n",
            "reset count:1\n",
            "Macd:−18.28 Signal:−18.36\n",
            "down trend:1\n",
            "reset count:2\n",
            "Macd:−18.64 Signal:−18.43\n",
            "up trend:1\n",
            "reset count:3\n",
            "Macd:−18.02 Signal:−18.31\n",
            "down trend:1\n",
            "reset count:4\n",
            "Macd:−18.61 Signal:−18.42\n",
            "down trend:2\n",
            "reset count:5\n",
            "Macd:−18.91 Signal:−18.48\n",
            "down trend:3\n",
            "Macd:−19.12 Signal:−18.53\n",
            "down trend:4\n",
            "reset count:1\n",
            "Macd:−18.82 Signal:−18.46\n",
            "down trend:5\n",
            "reset count:2\n",
            "Macd:−18.83 Signal:−18.47\n",
            "down trend:6\n",
            "reset count:3\n",
            "Macd:−18.82 Signal:−18.47\n",
            "up trend:1\n",
            "reset count:4\n",
            "Macd:−18.24 Signal:−18.35\n",
            "up trend:2\n",
            "reset count:5\n",
            "Macd:−18.24 Signal:−18.35\n",
            "down trend:1\n",
            "reset count:1\n",
            "Macd:−19.00 Signal:−18.50\n",
            "down trend:2\n",
            "reset count:2\n",
            "Macd:−18.70 Signal:−18.44\n",
            "up trend:1\n",
            "reset count:3\n",
            "Macd:−18.27 Signal:−18.36\n",
            "down trend:1\n",
            "reset count:4\n",
            "Macd:−18.54 Signal:−18.41\n",
            "down trend:2\n",
            "Macd:−19.74 Signal:−18.65\n",
            "down trend:3\n",
            "Macd:−20.13 Signal:−18.73\n",
            "down trend:4\n",
            "Macd:−19.66 Signal:−18.63\n",
            "down trend:5\n",
            "Macd:−20.48 Signal:−18.80\n",
            "down trend:6\n",
            "Macd:−21.01 Signal:−18.90\n",
            "down trend:7\n",
            "Macd:−20.89 Signal:−18.88\n",
            "down trend:8\n",
            "Macd:−22.08 Signal:−19.12\n",
            "down trend:9\n",
            "Macd:−20.75 Signal:−18.85\n",
            "down trend:10\n",
            "Macd:−19.74 Signal:−18.65\n",
            "down trend:11\n",
            "Macd:−20.04 Signal:−18.71\n",
            "down trend:12\n",
            "Macd:−20.20 Signal:−18.74\n",
            "down trend:13\n",
            "Macd:−19.80 Signal:−18.66\n",
            "down trend:14\n",
            "Macd:−19.36 Signal:−18.57\n",
            "down trend:15\n",
            "Macd:−19.25 Signal:−18.55\n",
            "down trend:16\n",
            "Macd:−19.32 Signal:−18.56\n",
            "down trend:17\n",
            "Macd:−25.79 Signal:−20.07\n",
            "down trend:18\n",
            "Macd:−25.67 Signal:−20.04\n",
            "down trend:19\n",
            "Macd:−26.49 Signal:−20.21\n",
            "down trend:20\n",
            "Macd:−28.01 Signal:−20.51\n",
            "down trend:21\n",
            "Macd:−28.23 Signal:−20.56\n",
            "down trend:22\n",
            "Macd:−27.78 Signal:−20.47\n",
            "down trend:23\n",
            "Macd:−27.42 Signal:−20.39\n",
            "down trend:24\n",
            "Macd:−27.71 Signal:−20.45\n",
            "down trend:25\n",
            "Macd:−27.44 Signal:−20.40\n",
            "down trend:26\n",
            "Macd:−27.50 Signal:−20.41\n",
            "down trend:27\n",
            "Macd:−27.41 Signal:−20.39\n",
            "down trend:28\n",
            "Macd:−26.49 Signal:−20.21\n",
            "down trend:29\n",
            "Macd:−26.32 Signal:−20.17\n",
            "down trend:30\n",
            "Macd:−26.14 Signal:−20.14\n",
            "down trend:31\n",
            "Macd:−26.96 Signal:−20.30\n",
            "down trend:32\n",
            "Macd:−26.62 Signal:−20.23\n",
            "down trend:33\n",
            "Macd:−26.68 Signal:−20.25\n",
            "down trend:34\n",
            "Macd:−26.63 Signal:−20.24\n",
            "down trend:35\n",
            "Macd:−26.91 Signal:−20.29\n",
            "down trend:36\n",
            "Macd:−26.32 Signal:−20.18\n",
            "down trend:37\n",
            "Macd:−26.61 Signal:−20.23\n",
            "down trend:38\n",
            "Macd:−26.82 Signal:−20.28\n",
            "down trend:39\n",
            "Macd:−26.11 Signal:−20.13\n",
            "down trend:40\n",
            "Macd:−24.97 Signal:−19.90\n",
            "down trend:41\n",
            "Macd:−24.87 Signal:−19.88\n",
            "down trend:42\n",
            "Macd:−25.16 Signal:−19.94\n",
            "down trend:43\n",
            "Macd:−25.35 Signal:−19.98\n",
            "down trend:44\n",
            "Macd:−25.73 Signal:−20.06\n",
            "down trend:45\n",
            "Macd:−25.78 Signal:−20.07\n",
            "down trend:46\n",
            "Macd:−25.58 Signal:−20.03\n",
            "down trend:47\n",
            "Macd:−25.59 Signal:−20.03\n",
            "down trend:48\n",
            "Macd:−25.74 Signal:−20.06\n",
            "down trend:49\n",
            "Macd:−25.95 Signal:−20.10\n",
            "down trend:50\n",
            "Macd:−25.70 Signal:−20.05\n",
            "down trend:51\n",
            "Macd:−25.68 Signal:−20.05\n",
            "down trend:52\n",
            "Macd:−25.17 Signal:−19.94\n",
            "down trend:53\n",
            "Macd:−25.38 Signal:−19.99\n",
            "down trend:54\n",
            "Macd:−25.20 Signal:−19.95\n",
            "down trend:55\n",
            "Macd:−24.99 Signal:−19.91\n",
            "down trend:56\n",
            "Macd:−25.36 Signal:−19.98\n",
            "down trend:57\n",
            "Macd:−25.75 Signal:−20.06\n",
            "down trend:58\n",
            "Macd:−25.66 Signal:−20.04\n",
            "down trend:59\n",
            "Macd:−25.46 Signal:−20.00\n",
            "down trend:60\n",
            "Macd:−25.15 Signal:−19.94\n",
            "down trend:61\n",
            "Macd:−24.86 Signal:−19.88\n",
            "down trend:62\n",
            "Macd:−25.31 Signal:−19.97\n",
            "down trend:63\n",
            "Macd:−25.41 Signal:−19.99\n",
            "down trend:64\n",
            "Macd:−25.57 Signal:−20.02\n",
            "down trend:65\n",
            "Macd:−25.61 Signal:−20.03\n",
            "down trend:66\n",
            "Macd:−25.48 Signal:−20.01\n",
            "down trend:67\n",
            "Macd:−25.47 Signal:−20.00\n",
            "down trend:68\n",
            "Macd:−26.08 Signal:−20.13\n",
            "down trend:69\n",
            "Macd:−26.11 Signal:−20.13\n",
            "down trend:70\n",
            "Macd:−26.05 Signal:−20.12\n",
            "down trend:71\n",
            "Macd:−26.38 Signal:−20.19\n",
            "down trend:72\n",
            "Macd:−26.43 Signal:−20.20\n"
          ]
        }
      ],
      "source": [
        "loop()"
      ]
    },
    {
      "cell_type": "code",
      "execution_count": null,
      "metadata": {
        "id": "f-V6EiUAY-rX"
      },
      "outputs": [],
      "source": [
        "chrome.quit()"
      ]
    }
  ],
  "metadata": {
    "colab": {
      "collapsed_sections": [],
      "provenance": []
    },
    "kernelspec": {
      "display_name": "Python 3",
      "name": "python3"
    },
    "language_info": {
      "name": "python"
    }
  },
  "nbformat": 4,
  "nbformat_minor": 0
}